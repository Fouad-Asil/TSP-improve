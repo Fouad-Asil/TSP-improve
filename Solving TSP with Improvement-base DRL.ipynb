{
 "cells": [
  {
   "cell_type": "markdown",
   "metadata": {},
   "source": [
    "# Solving TSP with Deep Rerinforcement Learning#\n",
    "\n",
    "The notebook implements an improvement-base DRL method for solving the TSP problem by iteratively improving a feasible solution.\n",
    "\n",
    "The code is based on the following paper:\n",
    "\n",
    "```\n",
    "Wu, Y., Song, W., Cao, Z., Zhang, J. and Lim, A., 2019. Learning improvement heuristics for solving the travelling salesman problem.\n",
    "```(https://arxiv.org/abs/1912.05784)\n",
    "\n",
    "© National University of Singapore. All Rights Reserved."
   ]
  },
  {
   "cell_type": "markdown",
   "metadata": {},
   "source": [
    "## Prepare: Install dependencies\n",
    "### Install with pip\n",
    "* PyTorch>=1.1\n",
    "* numpy\n",
    "* tqdm\n",
    "* cv2\n",
    "* tensorboard_logger\n",
    "* imageio (optional, for plots)\n",
    "\n",
    "### One more thing\n",
    "For the exception below from package tensorboard_logger,\n",
    "```python\n",
    "AttributeError: module 'scipy.misc' has no attribute 'toimage'\n",
    "```\n",
    "Please refer to [issue #27](https://github.com/TeamHG-Memex/tensorboard_logger/issues/27) to fix it."
   ]
  },
  {
   "cell_type": "code",
   "execution_count": 1,
   "metadata": {},
   "outputs": [],
   "source": [
    "import os\n",
    "import json\n",
    "import pprint\n",
    "\n",
    "import torch\n",
    "import torch.optim as optim\n",
    "from tensorboard_logger import Logger as TbLogger\n",
    "from torch.utils.data import DataLoader\n",
    "\n",
    "from nets.critic_network import CriticNetwork\n",
    "from train import train_epoch, validate\n",
    "from nets.reinforce_baselines import CriticBaseline\n",
    "from nets.attention_model import AttentionModel\n",
    "from utils import torch_load_cpu, load_problem, get_inner_model, move_to\n",
    "from utils.plots import plot_tour\n",
    "\n",
    "import warnings\n",
    "warnings.filterwarnings(\"ignore\", category=Warning)\n",
    "os.environ['KMP_DUPLICATE_LIB_OK']='True'"
   ]
  },
  {
   "cell_type": "markdown",
   "metadata": {},
   "source": [
    "## load the settings for training\n"
   ]
  },
  {
   "cell_type": "code",
   "execution_count": 2,
   "metadata": {},
   "outputs": [],
   "source": [
    "# load the run args\n",
    "%run options\n",
    "\n",
    "# Set the random seed\n",
    "torch.manual_seed(opts.seed)\n",
    "\n",
    "# Optionally configure tensorboard\n",
    "tb_logger = None\n",
    "if not opts.no_tensorboard:\n",
    "    tb_logger = TbLogger(os.path.join(opts.log_dir, \"{}_{}\".format(opts.problem, opts.graph_size), opts.run_name))\n",
    "\n",
    "if not os.path.exists(opts.save_dir):\n",
    "    os.makedirs(opts.save_dir)\n",
    "\n",
    "# Save arguments so exact configuration can always be found\n",
    "with open(os.path.join(opts.save_dir, \"args.json\"), 'w') as f:\n",
    "    json.dump(vars(opts), f, indent=True)\n",
    "\n",
    " # Set the device\n",
    "opts.device = torch.device(\"cuda\" if opts.use_cuda else \"cpu\")"
   ]
  },
  {
   "cell_type": "markdown",
   "metadata": {},
   "source": [
    "The default settings:\n",
    "```\n",
    "Runinig:\n",
    "    devices: GPU if avaliable else CPU\n",
    "    logging to tensorboard: True\n",
    "    logging figures: True\n",
    "    seed used: 1\n",
    "    \n",
    "Problem:\n",
    "    TSP size: 20 nodes\n",
    "    step method: 2-opt\n",
    "    checking feasibility for each step: True\n",
    "    \n",
    "network:\n",
    "    embedding_dim: 128\n",
    "    hidden_dim: 128\n",
    "    n_encoder_layers: 3\n",
    "    n_heads_encoder: 1\n",
    "    n_heads_decoder: 1\n",
    "    normalization: batch\n",
    "    \n",
    "training:\n",
    "    batch_size: 5120\n",
    "    epoch_size: 51200\n",
    "    number of epochs to train: 100\n",
    "    T_max: 200\n",
    "    n_step: 4\n",
    "    gamma: 0.99\n",
    "    learning_rate_init: 1e-4\n",
    "    learning_rate_decay: 0.99\n",
    "    \n",
    "validating:\n",
    "    dataset: './datasets/tsp_20_10000.pkl'\n",
    "    batch_size: 1000\n",
    "    T_max: 1000\n",
    "```"
   ]
  },
  {
   "cell_type": "markdown",
   "metadata": {},
   "source": [
    "### Simplify the training only for demonstration purpose\n",
    "Current setting requires GPUs for efficient learning.\n",
    "It takes around 8 hours on a single GeForce RTX 2080 Ti GPU card.\n",
    "\n",
    "We simplify the settings by reducing the batch size and the epoch size for demo purpose.\n",
    "\n",
    "Please skip this step for a real training."
   ]
  },
  {
   "cell_type": "code",
   "execution_count": 3,
   "metadata": {},
   "outputs": [],
   "source": [
    "# Please skip this for a real training.\n",
    "opts.epoch_size = 32\n",
    "opts.batch_size = 16\n",
    "opts.val_size = 10\n",
    "opts.eval_batch_size = 10"
   ]
  },
  {
   "cell_type": "markdown",
   "metadata": {},
   "source": [
    "## Figure out what's the problem"
   ]
  },
  {
   "cell_type": "code",
   "execution_count": 4,
   "metadata": {},
   "outputs": [
    {
     "name": "stdout",
     "output_type": "stream",
     "text": [
      "TSP with 20 nodes.\n"
     ]
    }
   ],
   "source": [
    "problem = load_problem(opts.problem)(\n",
    "                        p_size = opts.graph_size, # tsp size\n",
    "                        with_assert = not opts.no_assert) # if checking feasibiliy"
   ]
  },
  {
   "cell_type": "markdown",
   "metadata": {},
   "source": [
    "## Initialize our policy network"
   ]
  },
  {
   "cell_type": "code",
   "execution_count": 5,
   "metadata": {},
   "outputs": [
    {
     "data": {
      "text/plain": [
       "AttentionModel(\n",
       "  (embedder): EmbeddingNet(\n",
       "    (embedder): Linear(in_features=2, out_features=128, bias=True)\n",
       "  )\n",
       "  (encoder): Sequential(\n",
       "    (0): MultiHeadAttentionLayer(\n",
       "      (0): SkipConnection(\n",
       "        (module): MultiHeadAttention()\n",
       "      )\n",
       "      (1): Normalization(\n",
       "        (normalizer): BatchNorm1d(128, eps=1e-05, momentum=0.1, affine=True, track_running_stats=True)\n",
       "      )\n",
       "      (2): SkipConnection(\n",
       "        (module): Sequential(\n",
       "          (0): Linear(in_features=128, out_features=128, bias=True)\n",
       "          (1): ReLU()\n",
       "          (2): Linear(in_features=128, out_features=128, bias=True)\n",
       "        )\n",
       "      )\n",
       "      (3): Normalization(\n",
       "        (normalizer): BatchNorm1d(128, eps=1e-05, momentum=0.1, affine=True, track_running_stats=True)\n",
       "      )\n",
       "    )\n",
       "    (1): MultiHeadAttentionLayer(\n",
       "      (0): SkipConnection(\n",
       "        (module): MultiHeadAttention()\n",
       "      )\n",
       "      (1): Normalization(\n",
       "        (normalizer): BatchNorm1d(128, eps=1e-05, momentum=0.1, affine=True, track_running_stats=True)\n",
       "      )\n",
       "      (2): SkipConnection(\n",
       "        (module): Sequential(\n",
       "          (0): Linear(in_features=128, out_features=128, bias=True)\n",
       "          (1): ReLU()\n",
       "          (2): Linear(in_features=128, out_features=128, bias=True)\n",
       "        )\n",
       "      )\n",
       "      (3): Normalization(\n",
       "        (normalizer): BatchNorm1d(128, eps=1e-05, momentum=0.1, affine=True, track_running_stats=True)\n",
       "      )\n",
       "    )\n",
       "    (2): MultiHeadAttentionLayer(\n",
       "      (0): SkipConnection(\n",
       "        (module): MultiHeadAttention()\n",
       "      )\n",
       "      (1): Normalization(\n",
       "        (normalizer): BatchNorm1d(128, eps=1e-05, momentum=0.1, affine=True, track_running_stats=True)\n",
       "      )\n",
       "      (2): SkipConnection(\n",
       "        (module): Sequential(\n",
       "          (0): Linear(in_features=128, out_features=128, bias=True)\n",
       "          (1): ReLU()\n",
       "          (2): Linear(in_features=128, out_features=128, bias=True)\n",
       "        )\n",
       "      )\n",
       "      (3): Normalization(\n",
       "        (normalizer): BatchNorm1d(128, eps=1e-05, momentum=0.1, affine=True, track_running_stats=True)\n",
       "      )\n",
       "    )\n",
       "  )\n",
       "  (project_graph): Linear(in_features=128, out_features=128, bias=False)\n",
       "  (project_node): Linear(in_features=128, out_features=128, bias=False)\n",
       "  (decoder): MultiHeadDecoder()\n",
       ")"
      ]
     },
     "execution_count": 5,
     "metadata": {},
     "output_type": "execute_result"
    }
   ],
   "source": [
    "model_class = {\n",
    "    'attention': AttentionModel,\n",
    "}.get(opts.model, None)\n",
    "assert model_class is not None, \"Unknown model: {}\".format(model_class)\n",
    "                                                           \n",
    "model = model_class(\n",
    "    problem = problem,\n",
    "    embedding_dim = opts.embedding_dim,\n",
    "    hidden_dim = opts.hidden_dim,\n",
    "    n_heads = 1, # can increase for better performance\n",
    "    n_layers = opts.n_encode_layers,\n",
    "    normalization = opts.normalization,\n",
    "    device = opts.device,\n",
    ").to(opts.device)\n",
    "\n",
    "if opts.use_cuda and torch.cuda.device_count() > 1:\n",
    "    model = torch.nn.DataParallel(model)\n",
    "    \n",
    "model"
   ]
  },
  {
   "cell_type": "markdown",
   "metadata": {},
   "source": [
    "## Initialize our critic network"
   ]
  },
  {
   "cell_type": "code",
   "execution_count": 6,
   "metadata": {},
   "outputs": [
    {
     "data": {
      "text/plain": [
       "CriticNetwork(\n",
       "  (embedder): EmbeddingNet(\n",
       "    (embedder): Linear(in_features=2, out_features=128, bias=True)\n",
       "  )\n",
       "  (encoder): Sequential(\n",
       "    (0): MultiHeadAttentionLayer(\n",
       "      (0): SkipConnection(\n",
       "        (module): MultiHeadAttention()\n",
       "      )\n",
       "      (1): Normalization(\n",
       "        (normalizer): BatchNorm1d(128, eps=1e-05, momentum=0.1, affine=True, track_running_stats=True)\n",
       "      )\n",
       "      (2): SkipConnection(\n",
       "        (module): Sequential(\n",
       "          (0): Linear(in_features=128, out_features=128, bias=True)\n",
       "          (1): ReLU()\n",
       "          (2): Linear(in_features=128, out_features=128, bias=True)\n",
       "        )\n",
       "      )\n",
       "      (3): Normalization(\n",
       "        (normalizer): BatchNorm1d(128, eps=1e-05, momentum=0.1, affine=True, track_running_stats=True)\n",
       "      )\n",
       "    )\n",
       "    (1): MultiHeadAttentionLayer(\n",
       "      (0): SkipConnection(\n",
       "        (module): MultiHeadAttention()\n",
       "      )\n",
       "      (1): Normalization(\n",
       "        (normalizer): BatchNorm1d(128, eps=1e-05, momentum=0.1, affine=True, track_running_stats=True)\n",
       "      )\n",
       "      (2): SkipConnection(\n",
       "        (module): Sequential(\n",
       "          (0): Linear(in_features=128, out_features=128, bias=True)\n",
       "          (1): ReLU()\n",
       "          (2): Linear(in_features=128, out_features=128, bias=True)\n",
       "        )\n",
       "      )\n",
       "      (3): Normalization(\n",
       "        (normalizer): BatchNorm1d(128, eps=1e-05, momentum=0.1, affine=True, track_running_stats=True)\n",
       "      )\n",
       "    )\n",
       "    (2): MultiHeadAttentionLayer(\n",
       "      (0): SkipConnection(\n",
       "        (module): MultiHeadAttention()\n",
       "      )\n",
       "      (1): Normalization(\n",
       "        (normalizer): BatchNorm1d(128, eps=1e-05, momentum=0.1, affine=True, track_running_stats=True)\n",
       "      )\n",
       "      (2): SkipConnection(\n",
       "        (module): Sequential(\n",
       "          (0): Linear(in_features=128, out_features=128, bias=True)\n",
       "          (1): ReLU()\n",
       "          (2): Linear(in_features=128, out_features=128, bias=True)\n",
       "        )\n",
       "      )\n",
       "      (3): Normalization(\n",
       "        (normalizer): BatchNorm1d(128, eps=1e-05, momentum=0.1, affine=True, track_running_stats=True)\n",
       "      )\n",
       "    )\n",
       "  )\n",
       "  (project_graph): Linear(in_features=128, out_features=128, bias=False)\n",
       "  (project_node): Linear(in_features=128, out_features=128, bias=False)\n",
       "  (value_head): Sequential(\n",
       "    (0): Linear(in_features=128, out_features=128, bias=True)\n",
       "    (1): ReLU()\n",
       "    (2): Linear(in_features=128, out_features=1, bias=True)\n",
       "  )\n",
       ")"
      ]
     },
     "execution_count": 6,
     "metadata": {},
     "output_type": "execute_result"
    }
   ],
   "source": [
    "baseline = CriticBaseline(\n",
    "                CriticNetwork(\n",
    "                    problem = problem,\n",
    "                    embedding_dim = opts.embedding_dim,\n",
    "                    hidden_dim = opts.hidden_dim,\n",
    "                    n_heads = 1, # can increase for better performance\n",
    "                    n_layers = opts.n_encode_layers,\n",
    "                    normalization = opts.normalization,\n",
    "                    device = opts.device,\n",
    "                ).to(opts.device)\n",
    "        )\n",
    "baseline.critic"
   ]
  },
  {
   "cell_type": "markdown",
   "metadata": {},
   "source": [
    " ## Initialize the Adam optimizer and learning rate scheduler"
   ]
  },
  {
   "cell_type": "code",
   "execution_count": 7,
   "metadata": {},
   "outputs": [
    {
     "data": {
      "text/plain": [
       "Adam (\n",
       "Parameter Group 0\n",
       "    amsgrad: False\n",
       "    betas: (0.9, 0.999)\n",
       "    eps: 1e-08\n",
       "    initial_lr: 0.0001\n",
       "    lr: 0.0001\n",
       "    weight_decay: 0\n",
       "\n",
       "Parameter Group 1\n",
       "    amsgrad: False\n",
       "    betas: (0.9, 0.999)\n",
       "    eps: 1e-08\n",
       "    initial_lr: 0.0001\n",
       "    lr: 0.0001\n",
       "    weight_decay: 0\n",
       ")"
      ]
     },
     "execution_count": 7,
     "metadata": {},
     "output_type": "execute_result"
    }
   ],
   "source": [
    "# Initialize optimizer\n",
    "optimizer = optim.Adam(\n",
    "            [{'params': model.parameters(), 'lr': opts.lr_model}]\n",
    "            + (\n",
    "                [{'params': baseline.get_learnable_parameters(), 'lr': opts.lr_critic}]\n",
    "                if len(baseline.get_learnable_parameters()) > 0 else []\n",
    "            )\n",
    "        )\n",
    "\n",
    "# Initialize learning rate scheduler, decay by lr_decay once per epoch!\n",
    "lr_scheduler = optim.lr_scheduler.LambdaLR(optimizer, lambda epoch: opts.lr_decay ** epoch)\n",
    "\n",
    "optimizer"
   ]
  },
  {
   "cell_type": "markdown",
   "metadata": {},
   "source": [
    "## Load the validation datasets"
   ]
  },
  {
   "cell_type": "code",
   "execution_count": 8,
   "metadata": {},
   "outputs": [],
   "source": [
    "val_dataset = problem.make_dataset(size=opts.graph_size,\n",
    "                                   num_samples=opts.val_size,\n",
    "                                   filename = opts.val_dataset)"
   ]
  },
  {
   "cell_type": "markdown",
   "metadata": {},
   "source": [
    "## Start training !!\n",
    "\n",
    "Let's train 2 epochs with T=100 for example:"
   ]
  },
  {
   "cell_type": "code",
   "execution_count": 9,
   "metadata": {},
   "outputs": [
    {
     "name": "stdout",
     "output_type": "stream",
     "text": [
      "\n",
      "\n",
      "\n",
      "| ********************* Training epoch 0 ********************* |\n",
      "Training with lr=1.000e-04 for run run_name_20200715T162056\n"
     ]
    },
    {
     "name": "stderr",
     "output_type": "stream",
     "text": [
      "training: 100%|██████████| 50/50 [00:24<00:00,  2.02it/s]"
     ]
    },
    {
     "name": "stdout",
     "output_type": "stream",
     "text": [
      "Saving model and state...\n",
      "\n",
      "Validating...\n"
     ]
    },
    {
     "name": "stderr",
     "output_type": "stream",
     "text": [
      "\n",
      "rollout: 100%|██████████| 1000/1000 [00:16<00:00, 61.59it/s]\n"
     ]
    },
    {
     "name": "stdout",
     "output_type": "stream",
     "text": [
      "\n",
      " ------------------------------------------------------------\n",
      "         Avg total reward:          3.673665   +- 0.342202  \n",
      "          Avg step reward:          0.003674   +- 0.015061  \n",
      "------------------------------------------------------------\n",
      "           Avg init cost:           9.923937   +- 0.394804  \n",
      "  Avg cost after 20% improvement:   8.926992   +- 0.382760  \n",
      "  Avg cost after 40% improvement:   8.783872   +- 0.446642  \n",
      "  Avg cost after 60% improvement:   9.377264   +- 0.493993  \n",
      "  Avg cost after 80% improvement:   9.800089   +- 0.472117  \n",
      "  Avg cost after 100% improvement:  9.136557   +- 0.373237  \n",
      "           Avg best cost:           6.250272   +- 0.265452  \n",
      "------------------------------------------------------------\n",
      "           Avg used time:           1.624696s\n",
      "------------------------------------------------------------ \n",
      "\n",
      "\n",
      "\n",
      "\n",
      "| ********************* Training epoch 1 ********************* |\n",
      "Training with lr=9.900e-05 for run run_name_20200715T162056\n"
     ]
    },
    {
     "name": "stderr",
     "output_type": "stream",
     "text": [
      "training: 100%|██████████| 50/50 [00:21<00:00,  2.34it/s]"
     ]
    },
    {
     "name": "stdout",
     "output_type": "stream",
     "text": [
      "Saving model and state...\n",
      "\n",
      "Validating...\n"
     ]
    },
    {
     "name": "stderr",
     "output_type": "stream",
     "text": [
      "\n",
      "rollout: 100%|██████████| 1000/1000 [00:15<00:00, 62.65it/s]\n"
     ]
    },
    {
     "name": "stdout",
     "output_type": "stream",
     "text": [
      "\n",
      " ------------------------------------------------------------\n",
      "         Avg total reward:          4.023519   +- 0.335412  \n",
      "          Avg step reward:          0.004024   +- 0.014900  \n",
      "------------------------------------------------------------\n",
      "           Avg init cost:           9.923937   +- 0.394804  \n",
      "  Avg cost after 20% improvement:   7.953878   +- 0.306836  \n",
      "  Avg cost after 40% improvement:   8.508814   +- 0.330832  \n",
      "  Avg cost after 60% improvement:   8.253252   +- 0.364143  \n",
      "  Avg cost after 80% improvement:   9.222216   +- 0.541035  \n",
      "  Avg cost after 100% improvement:  8.247660   +- 0.344068  \n",
      "           Avg best cost:           5.900418   +- 0.222926  \n",
      "------------------------------------------------------------\n",
      "           Avg used time:           1.597432s\n",
      "------------------------------------------------------------ \n",
      "\n"
     ]
    }
   ],
   "source": [
    "opts.T_train = 100\n",
    "opts.n_epochs = 2\n",
    "opts.epoch_start = 0\n",
    "\n",
    "for epoch in range(opts.epoch_start, opts.epoch_start + opts.n_epochs):\n",
    "    train_epoch(\n",
    "        problem,\n",
    "        model,\n",
    "        optimizer,\n",
    "        baseline,\n",
    "        lr_scheduler,\n",
    "        epoch,\n",
    "        val_dataset,\n",
    "        tb_logger,\n",
    "        opts\n",
    "    )"
   ]
  },
  {
   "cell_type": "markdown",
   "metadata": {},
   "source": [
    "## let's show the training logs with Tensorboard"
   ]
  },
  {
   "cell_type": "code",
   "execution_count": 10,
   "metadata": {},
   "outputs": [
    {
     "data": {
      "text/plain": [
       "Reusing TensorBoard on port 6006 (pid 5317), started 0:13:26 ago. (Use '!kill 5317' to kill it.)"
      ]
     },
     "metadata": {},
     "output_type": "display_data"
    },
    {
     "data": {
      "text/html": [
       "\n",
       "      <iframe id=\"tensorboard-frame-98b0fdf90ede6d16\" width=\"100%\" height=\"800\" frameborder=\"0\">\n",
       "      </iframe>\n",
       "      <script>\n",
       "        (function() {\n",
       "          const frame = document.getElementById(\"tensorboard-frame-98b0fdf90ede6d16\");\n",
       "          const url = new URL(\"/\", window.location);\n",
       "          url.port = 6006;\n",
       "          frame.src = url;\n",
       "        })();\n",
       "      </script>\n",
       "  "
      ],
      "text/plain": [
       "<IPython.core.display.HTML object>"
      ]
     },
     "metadata": {},
     "output_type": "display_data"
    }
   ],
   "source": [
    "logs_base_dir = os.path.join(os.getcwd(),'logs/tsp_20')\n",
    "\n",
    "%load_ext tensorboard\n",
    "%tensorboard --logdir {logs_base_dir}"
   ]
  },
  {
   "cell_type": "markdown",
   "metadata": {},
   "source": [
    "## Let's see what an actual training looks like"
   ]
  },
  {
   "cell_type": "code",
   "execution_count": 11,
   "metadata": {},
   "outputs": [
    {
     "data": {
      "text/plain": [
       "Reusing TensorBoard on port 6007 (pid 5338), started 0:13:05 ago. (Use '!kill 5338' to kill it.)"
      ]
     },
     "metadata": {},
     "output_type": "display_data"
    },
    {
     "data": {
      "text/html": [
       "\n",
       "      <iframe id=\"tensorboard-frame-eaf110d14034319d\" width=\"100%\" height=\"800\" frameborder=\"0\">\n",
       "      </iframe>\n",
       "      <script>\n",
       "        (function() {\n",
       "          const frame = document.getElementById(\"tensorboard-frame-eaf110d14034319d\");\n",
       "          const url = new URL(\"/\", window.location);\n",
       "          url.port = 6007;\n",
       "          frame.src = url;\n",
       "        })();\n",
       "      </script>\n",
       "  "
      ],
      "text/plain": [
       "<IPython.core.display.HTML object>"
      ]
     },
     "metadata": {},
     "output_type": "display_data"
    }
   ],
   "source": [
    "# start a new tensorboard\n",
    "logs_base_dir = os.path.join(os.getcwd(),'logs/pre_trained')\n",
    "%tensorboard --logdir {logs_base_dir}"
   ]
  },
  {
   "cell_type": "markdown",
   "metadata": {},
   "source": [
    "## We can load the pre-trained model"
   ]
  },
  {
   "cell_type": "code",
   "execution_count": 12,
   "metadata": {},
   "outputs": [
    {
     "name": "stdout",
     "output_type": "stream",
     "text": [
      "  [*] Loading data from ./outputs/tsp_20/tsp_20200714T212735/epoch-99.pt\n"
     ]
    },
    {
     "data": {
      "text/plain": [
       "<All keys matched successfully>"
      ]
     },
     "execution_count": 12,
     "metadata": {},
     "output_type": "execute_result"
    }
   ],
   "source": [
    "opts.load_path = './outputs/tsp_20/tsp_20200714T212735/epoch-99.pt'\n",
    "\n",
    "# Load data from load_path\n",
    "load_data = {}\n",
    "assert opts.load_path is None or opts.resume is None, \"Only one of load path and resume can be given\"\n",
    "load_path = opts.load_path if opts.load_path is not None else opts.resume\n",
    "if load_path is not None:\n",
    "    print('  [*] Loading data from {}'.format(load_path))\n",
    "    load_data = torch_load_cpu(load_path)\n",
    "\n",
    "# Overwrite model parameters by parameters to load\n",
    "model_ = get_inner_model(model)\n",
    "model_.load_state_dict({**model_.state_dict(), **load_data.get('model', {})})"
   ]
  },
  {
   "cell_type": "markdown",
   "metadata": {},
   "source": [
    "### Validate using the loaded model"
   ]
  },
  {
   "cell_type": "code",
   "execution_count": 13,
   "metadata": {},
   "outputs": [
    {
     "name": "stdout",
     "output_type": "stream",
     "text": [
      "\n",
      "Validating...\n"
     ]
    },
    {
     "name": "stderr",
     "output_type": "stream",
     "text": [
      "rollout: 100%|██████████| 1000/1000 [00:20<00:00, 49.95it/s]\n"
     ]
    },
    {
     "name": "stdout",
     "output_type": "stream",
     "text": [
      "\n",
      " ------------------------------------------------------------\n",
      "         Avg total reward:          6.133442   +- 0.341763  \n",
      "          Avg step reward:          0.006133   +- 0.019121  \n",
      "------------------------------------------------------------\n",
      "           Avg init cost:           9.923937   +- 0.394804  \n",
      "  Avg cost after 20% improvement:   4.017842   +- 0.093292  \n",
      "  Avg cost after 40% improvement:   4.067118   +- 0.098616  \n",
      "  Avg cost after 60% improvement:   4.048879   +- 0.104196  \n",
      "  Avg cost after 80% improvement:   3.924755   +- 0.092029  \n",
      "  Avg cost after 100% improvement:  3.972857   +- 0.095292  \n",
      "           Avg best cost:           3.790494   +- 0.082387  \n",
      "------------------------------------------------------------\n",
      "           Avg used time:           2.003202s\n",
      "------------------------------------------------------------ \n",
      "\n"
     ]
    }
   ],
   "source": [
    "validate(problem, model, val_dataset, tb_logger, opts)"
   ]
  },
  {
   "cell_type": "markdown",
   "metadata": {},
   "source": [
    "## Let's look inside the model\n",
    "\n",
    "Let's see what happens when solving a particular TSP instance.\n",
    "### Get one TSP instance"
   ]
  },
  {
   "cell_type": "code",
   "execution_count": 14,
   "metadata": {},
   "outputs": [
    {
     "data": {
      "text/plain": [
       "tensor([[[0.4509, 0.8512],\n",
       "         [0.3281, 0.4170],\n",
       "         [0.2536, 0.4560],\n",
       "         [0.6566, 0.6865],\n",
       "         [0.0264, 0.5931],\n",
       "         [0.2647, 0.8877],\n",
       "         [0.9084, 0.8208],\n",
       "         [0.3501, 0.1872],\n",
       "         [0.9299, 0.0127],\n",
       "         [0.1770, 0.8813],\n",
       "         [0.1611, 0.9836],\n",
       "         [0.6462, 0.2009],\n",
       "         [0.5012, 0.6662],\n",
       "         [0.4446, 0.8552],\n",
       "         [0.5352, 0.5726],\n",
       "         [0.9432, 0.0668],\n",
       "         [0.6561, 0.2709],\n",
       "         [0.7097, 0.8725],\n",
       "         [0.6250, 0.1875],\n",
       "         [0.6853, 0.0979]]])"
      ]
     },
     "execution_count": 14,
     "metadata": {},
     "output_type": "execute_result"
    }
   ],
   "source": [
    "instance = next(iter(DataLoader(val_dataset, batch_size = 1)))\n",
    "instance"
   ]
  },
  {
   "cell_type": "markdown",
   "metadata": {},
   "source": [
    "### Get one initial solution"
   ]
  },
  {
   "cell_type": "code",
   "execution_count": 15,
   "metadata": {},
   "outputs": [
    {
     "data": {
      "text/plain": [
       "(tensor([[ 0.,  1.,  2.,  3.,  4.,  5.,  6.,  7.,  8.,  9., 10., 11., 12., 13.,\n",
       "          14., 15., 16., 17., 18., 19.]]),\n",
       " tensor([10.4616]))"
      ]
     },
     "execution_count": 15,
     "metadata": {},
     "output_type": "execute_result"
    }
   ],
   "source": [
    "solution = move_to(\n",
    "        problem.get_initial_solutions('seq', instance), opts.device)\n",
    "\n",
    "cost = problem.get_costs(instance, solution)\n",
    "\n",
    "solution, cost"
   ]
  },
  {
   "cell_type": "markdown",
   "metadata": {},
   "source": [
    "### Plot the iniitial solution\n"
   ]
  },
  {
   "cell_type": "code",
   "execution_count": 16,
   "metadata": {},
   "outputs": [
    {
     "data": {
      "image/png": "[encoded data removed]",
      "text/plain": [
       "<Figure size 576x432 with 1 Axes>"
      ]
     },
     "metadata": {
      "needs_background": "light"
     },
     "output_type": "display_data"
    }
   ],
   "source": [
    "plot_tour(solution, instance[0])"
   ]
  },
  {
   "cell_type": "markdown",
   "metadata": {},
   "source": [
    "### Pass through embedder only \n",
    "\n",
    "To show how embedder works, <br>\n",
    "we can pass the instance and the tour through only the embedder of our policy network, <br>\n",
    "and visualize the tour in the embedded space using PCA."
   ]
  },
  {
   "cell_type": "code",
   "execution_count": 17,
   "metadata": {},
   "outputs": [
    {
     "data": {
      "image/png": "[encoded data removed]",
      "text/plain": [
       "<Figure size 432x288 with 1 Axes>"
      ]
     },
     "metadata": {
      "needs_background": "light"
     },
     "output_type": "display_data"
    },
    {
     "data": {
      "text/plain": [
       "tensor([[ 0.,  1.,  2.,  3.,  4.,  5.,  6.,  7.,  8.,  9., 10., 11., 12., 13.,\n",
       "         14., 15., 16., 17., 18., 19.]])"
      ]
     },
     "execution_count": 17,
     "metadata": {},
     "output_type": "execute_result"
    }
   ],
   "source": [
    "# the embedded input x\n",
    "bs, gs, in_d = instance.size()\n",
    "\n",
    "# pass through embedder: current solutions\n",
    "x_embed = model.embedder(instance, solution)\n",
    "\n",
    "# transform the high-dimensional data into two dimensions using PCA\n",
    "from sklearn.decomposition import PCA\n",
    "X = x_embed[0].detach().numpy()\n",
    "pca = PCA(n_components=2)\n",
    "pca.fit(X)\n",
    "out = pca.transform(X)\n",
    "\n",
    "# visualize the tour in the embedded space\n",
    "import matplotlib.pyplot as plt\n",
    "fig, ax = plt.subplots()\n",
    "for i in range(20):\n",
    "    ax.scatter(out[i,0], out[i,1])\n",
    "    plt.annotate(i+1,(out[i,0] - 0.015, out[i,1] - 0.06), fontsize=12) \n",
    "ax.grid(True)\n",
    "\n",
    "plt.show()\n",
    "solution"
   ]
  },
  {
   "cell_type": "markdown",
   "metadata": {},
   "source": [
    "### Pass through encoder and decoder"
   ]
  },
  {
   "cell_type": "code",
   "execution_count": 18,
   "metadata": {},
   "outputs": [
    {
     "data": {
      "image/png": "[encoded data removed]",
      "text/plain": [
       "<Figure size 432x288 with 2 Axes>"
      ]
     },
     "metadata": {},
     "output_type": "display_data"
    }
   ],
   "source": [
    "# pass through encoder: current solutions\n",
    "h_em = model.encoder(x_embed) # torch.Size([2, 50, 128])\n",
    "\n",
    "# get embed graph feature\n",
    "max_pooling = h_em.max(1)[0] # max Pooling\n",
    "graph_feature = model.project_graph(max_pooling)[:, None, :]\n",
    "\n",
    "# get embed node feature\n",
    "node_feature = model.project_node(h_em)\n",
    "\n",
    "# pass through decoder, get log_likelihood and M matrix\n",
    "fusion = node_feature + graph_feature.expand_as(node_feature) # torch.Size([2, 50, 128])\n",
    "log_likelihood, M_value = model.decoder(fusion, None, solution) # att torch.Size([1, 2, 2500])          \n",
    "\n",
    "# get the action table\n",
    "M_value = M_value.detach().view(20,20)\n",
    "M_value[problem.get_swap_mask(solution)[0].view(-1).view(20,20).bool()] = 0\n",
    "\n",
    "# visulize the action table\n",
    "import seaborn as sns; sns.set() \n",
    "sns.heatmap(M_value)\n",
    "plt.show()"
   ]
  },
  {
   "cell_type": "markdown",
   "metadata": {},
   "source": [
    "After we get this table, we can sample an action for the next step.\n",
    "\n",
    "### Solve this instance by rollout (T = 100)"
   ]
  },
  {
   "cell_type": "code",
   "execution_count": 27,
   "metadata": {},
   "outputs": [
    {
     "name": "stderr",
     "output_type": "stream",
     "text": [
      "rollout: 100%|██████████| 100/100 [00:01<00:00, 62.66it/s]\n"
     ]
    },
    {
     "data": {
      "image/png": "[encoded data removed]",
      "text/plain": [
       "<Figure size 576x432 with 1 Axes>"
      ]
     },
     "metadata": {},
     "output_type": "display_data"
    },
    {
     "data": {
      "text/plain": [
       "(tensor([[ 7.,  1.,  2.,  4.,  9., 10.,  5., 13.,  0., 12., 14.,  3., 17.,  6.,\n",
       "          15.,  8., 19., 18., 11., 16.]]),\n",
       " tensor([[3.7876]]))"
      ]
     },
     "execution_count": 27,
     "metadata": {},
     "output_type": "execute_result"
    }
   ],
   "source": [
    "from train import rollout\n",
    "x_input = move_to(instance, opts.device) # batch_size, graph_size, 2\n",
    "batch = move_to(instance, opts.device) # batch_size, graph_size, 2\n",
    "\n",
    "model.eval() # change to eval mode\n",
    "best_val, improvement, reward, history_solutions = rollout( problem, \n",
    "                                                             model, \n",
    "                                                             x_input, \n",
    "                                                             instance, \n",
    "                                                             solution, \n",
    "                                                             cost, \n",
    "                                                             opts, \n",
    "                                                             100,\n",
    "                                                             True,\n",
    "                                                             True)\n",
    "\n",
    "best_solution = history_solutions[:,-1]\n",
    "plot_tour(best_solution, instance[0])\n",
    "\n",
    "best_solution, best_val"
   ]
  },
  {
   "cell_type": "markdown",
   "metadata": {},
   "source": [
    "### Visualize the improvement process"
   ]
  },
  {
   "cell_type": "code",
   "execution_count": 28,
   "metadata": {},
   "outputs": [
    {
     "name": "stderr",
     "output_type": "stream",
     "text": [
      "\n",
      "tour completed: 100%|██████████| 101/101 [00:16<00:00,  6.01it/s]A\n",
      "\n",
      "record for each instance: 100%|██████████| 1/1 [00:16<00:00, 16.82s/it]\u001b[A\n"
     ]
    }
   ],
   "source": [
    "from utils.record_a_video import record_gif\n",
    "record_gif(instance, history_solutions, filename = 'ep_gif', dpi = 60)"
   ]
  },
  {
   "cell_type": "code",
   "execution_count": 30,
   "metadata": {},
   "outputs": [
    {
     "data": {
      "text/html": [
       "<img src=\"outputs/ep_gif_0.gif\">"
      ],
      "text/plain": [
       "<IPython.core.display.HTML object>"
      ]
     },
     "execution_count": 30,
     "metadata": {},
     "output_type": "execute_result"
    }
   ],
   "source": [
    "from IPython.display import HTML\n",
    "HTML('<img src=\"outputs/ep_gif_0.gif\">')"
   ]
  },
  {
   "cell_type": "markdown",
   "metadata": {},
   "source": [
    "## Any Questions?"
   ]
  }
 ],
 "metadata": {
  "kernelspec": {
   "display_name": "Python 3.7.7 64-bit ('sac': conda)",
   "language": "python",
   "name": "python37764bitsaccondaf083af305ab2400da4d83aa9958e7a93"
  },
  "language_info": {
   "codemirror_mode": {
    "name": "ipython",
    "version": 3
   },
   "file_extension": ".py",
   "mimetype": "text/x-python",
   "name": "python",
   "nbconvert_exporter": "python",
   "pygments_lexer": "ipython3",
   "version": "3.7.7"
  }
 },
 "nbformat": 4,
 "nbformat_minor": 2
}
